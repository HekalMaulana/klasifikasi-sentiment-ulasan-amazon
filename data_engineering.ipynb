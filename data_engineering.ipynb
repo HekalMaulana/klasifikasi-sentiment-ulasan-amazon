{
 "cells": [
  {
   "cell_type": "code",
   "execution_count": 1,
   "id": "5754581e",
   "metadata": {},
   "outputs": [],
   "source": [
    "import pandas as pd\n",
    "from jcopml.plot import plot_missing_value"
   ]
  },
  {
   "cell_type": "markdown",
   "id": "555e3228",
   "metadata": {},
   "source": [
    "# Import Data"
   ]
  },
  {
   "cell_type": "code",
   "execution_count": 2,
   "id": "78fbba73",
   "metadata": {},
   "outputs": [
    {
     "data": {
      "text/html": [
       "<div>\n",
       "<style scoped>\n",
       "    .dataframe tbody tr th:only-of-type {\n",
       "        vertical-align: middle;\n",
       "    }\n",
       "\n",
       "    .dataframe tbody tr th {\n",
       "        vertical-align: top;\n",
       "    }\n",
       "\n",
       "    .dataframe thead th {\n",
       "        text-align: right;\n",
       "    }\n",
       "</style>\n",
       "<table border=\"1\" class=\"dataframe\">\n",
       "  <thead>\n",
       "    <tr style=\"text-align: right;\">\n",
       "      <th></th>\n",
       "      <th>DOC_ID</th>\n",
       "      <th>LABEL</th>\n",
       "      <th>RATING</th>\n",
       "      <th>VERIFIED_PURCHASE</th>\n",
       "      <th>PRODUCT_CATEGORY</th>\n",
       "      <th>PRODUCT_ID</th>\n",
       "      <th>PRODUCT_TITLE</th>\n",
       "      <th>REVIEW_TITLE</th>\n",
       "      <th>REVIEW_TEXT</th>\n",
       "    </tr>\n",
       "  </thead>\n",
       "  <tbody>\n",
       "    <tr>\n",
       "      <th>0</th>\n",
       "      <td>1</td>\n",
       "      <td>__label1__</td>\n",
       "      <td>4</td>\n",
       "      <td>N</td>\n",
       "      <td>PC</td>\n",
       "      <td>B00008NG7N</td>\n",
       "      <td>Targus PAUK10U Ultra Mini USB Keypad, Black</td>\n",
       "      <td>useful</td>\n",
       "      <td>When least you think so, this product will sav...</td>\n",
       "    </tr>\n",
       "    <tr>\n",
       "      <th>1</th>\n",
       "      <td>2</td>\n",
       "      <td>__label1__</td>\n",
       "      <td>4</td>\n",
       "      <td>Y</td>\n",
       "      <td>Wireless</td>\n",
       "      <td>B00LH0Y3NM</td>\n",
       "      <td>Note 3 Battery : Stalion Strength Replacement ...</td>\n",
       "      <td>New era for batteries</td>\n",
       "      <td>Lithium batteries are something new introduced...</td>\n",
       "    </tr>\n",
       "    <tr>\n",
       "      <th>2</th>\n",
       "      <td>3</td>\n",
       "      <td>__label1__</td>\n",
       "      <td>3</td>\n",
       "      <td>N</td>\n",
       "      <td>Baby</td>\n",
       "      <td>B000I5UZ1Q</td>\n",
       "      <td>Fisher-Price Papasan Cradle Swing, Starlight</td>\n",
       "      <td>doesn't swing very well.</td>\n",
       "      <td>I purchased this swing for my baby. She is 6 m...</td>\n",
       "    </tr>\n",
       "    <tr>\n",
       "      <th>3</th>\n",
       "      <td>4</td>\n",
       "      <td>__label1__</td>\n",
       "      <td>4</td>\n",
       "      <td>N</td>\n",
       "      <td>Office Products</td>\n",
       "      <td>B003822IRA</td>\n",
       "      <td>Casio MS-80B Standard Function Desktop Calculator</td>\n",
       "      <td>Great computing!</td>\n",
       "      <td>I was looking for an inexpensive desk calcolat...</td>\n",
       "    </tr>\n",
       "    <tr>\n",
       "      <th>4</th>\n",
       "      <td>5</td>\n",
       "      <td>__label1__</td>\n",
       "      <td>4</td>\n",
       "      <td>N</td>\n",
       "      <td>Beauty</td>\n",
       "      <td>B00PWSAXAM</td>\n",
       "      <td>Shine Whitening - Zero Peroxide Teeth Whitenin...</td>\n",
       "      <td>Only use twice a week</td>\n",
       "      <td>I only use it twice a week and the results are...</td>\n",
       "    </tr>\n",
       "  </tbody>\n",
       "</table>\n",
       "</div>"
      ],
      "text/plain": [
       "   DOC_ID       LABEL  RATING VERIFIED_PURCHASE PRODUCT_CATEGORY  PRODUCT_ID  \\\n",
       "0       1  __label1__       4                 N               PC  B00008NG7N   \n",
       "1       2  __label1__       4                 Y         Wireless  B00LH0Y3NM   \n",
       "2       3  __label1__       3                 N             Baby  B000I5UZ1Q   \n",
       "3       4  __label1__       4                 N  Office Products  B003822IRA   \n",
       "4       5  __label1__       4                 N           Beauty  B00PWSAXAM   \n",
       "\n",
       "                                       PRODUCT_TITLE  \\\n",
       "0        Targus PAUK10U Ultra Mini USB Keypad, Black   \n",
       "1  Note 3 Battery : Stalion Strength Replacement ...   \n",
       "2       Fisher-Price Papasan Cradle Swing, Starlight   \n",
       "3  Casio MS-80B Standard Function Desktop Calculator   \n",
       "4  Shine Whitening - Zero Peroxide Teeth Whitenin...   \n",
       "\n",
       "               REVIEW_TITLE                                        REVIEW_TEXT  \n",
       "0                    useful  When least you think so, this product will sav...  \n",
       "1     New era for batteries  Lithium batteries are something new introduced...  \n",
       "2  doesn't swing very well.  I purchased this swing for my baby. She is 6 m...  \n",
       "3          Great computing!  I was looking for an inexpensive desk calcolat...  \n",
       "4     Only use twice a week  I only use it twice a week and the results are...  "
      ]
     },
     "execution_count": 2,
     "metadata": {},
     "output_type": "execute_result"
    }
   ],
   "source": [
    "df = pd.read_csv(\"data/amazon_reviews.txt\", delimiter=\"\\t\")\n",
    "df.head()"
   ]
  },
  {
   "cell_type": "markdown",
   "id": "d5788691",
   "metadata": {},
   "source": [
    "# Data Analysis"
   ]
  },
  {
   "cell_type": "markdown",
   "id": "e78c5e43",
   "metadata": {},
   "source": [
    "#### Melihat Jumlah baris atau banyaknya data "
   ]
  },
  {
   "cell_type": "code",
   "execution_count": 3,
   "id": "617ba73b",
   "metadata": {},
   "outputs": [
    {
     "data": {
      "text/plain": [
       "21000"
      ]
     },
     "execution_count": 3,
     "metadata": {},
     "output_type": "execute_result"
    }
   ],
   "source": [
    "len(df)"
   ]
  },
  {
   "cell_type": "markdown",
   "id": "90dffa42",
   "metadata": {},
   "source": [
    "#### Memastikan jumlah unique value pada kolom RATING"
   ]
  },
  {
   "cell_type": "code",
   "execution_count": 4,
   "id": "f084c6cd",
   "metadata": {},
   "outputs": [
    {
     "data": {
      "text/plain": [
       "array([4, 3, 1, 2, 5], dtype=int64)"
      ]
     },
     "execution_count": 4,
     "metadata": {},
     "output_type": "execute_result"
    }
   ],
   "source": [
    "df[\"RATING\"].unique()"
   ]
  },
  {
   "cell_type": "markdown",
   "id": "e852c45e",
   "metadata": {},
   "source": [
    "#### Memastikan jumlah unique value pada kolom VERIFIED_PURCHASE"
   ]
  },
  {
   "cell_type": "code",
   "execution_count": 5,
   "id": "d4b8bb11",
   "metadata": {},
   "outputs": [
    {
     "data": {
      "text/plain": [
       "array(['N', 'Y'], dtype=object)"
      ]
     },
     "execution_count": 5,
     "metadata": {},
     "output_type": "execute_result"
    }
   ],
   "source": [
    "df[\"VERIFIED_PURCHASE\"].unique()"
   ]
  },
  {
   "cell_type": "code",
   "execution_count": 6,
   "id": "d4e4411e",
   "metadata": {},
   "outputs": [
    {
     "data": {
      "text/plain": [
       "array(['useful', 'New era for batteries', \"doesn't swing very well.\", ...,\n",
       "       'I love moccasins This fit like it was custom made for ...',\n",
       "       'This fit well, comfortable, best investment',\n",
       "       'Love these shoes, except for the laces'], dtype=object)"
      ]
     },
     "execution_count": 6,
     "metadata": {},
     "output_type": "execute_result"
    }
   ],
   "source": [
    "df[\"REVIEW_TITLE\"].unique()"
   ]
  },
  {
   "cell_type": "markdown",
   "id": "793b5b0b",
   "metadata": {},
   "source": [
    "#### Memastikan bahwa tidak ada data yang kosong"
   ]
  },
  {
   "cell_type": "code",
   "execution_count": 7,
   "id": "4ec00584",
   "metadata": {},
   "outputs": [
    {
     "data": {
      "image/png": "[encoded data removed]",
      "text/plain": [
       "<Figure size 1500x800 with 1 Axes>"
      ]
     },
     "metadata": {},
     "output_type": "display_data"
    }
   ],
   "source": [
    "plot_missing_value(df=df)"
   ]
  },
  {
   "cell_type": "markdown",
   "id": "baf70457",
   "metadata": {},
   "source": [
    "## KESIMPULAN\n",
    "\n",
    "- Terdapat 5 unique value pada kolom RATING\n",
    "- Terdapat 2 unique value pada kolom VERIFIED_PURCHASED\n",
    "- tidak ada kolom yang memiliki data kosong\n",
    "\n",
    "## Kolom yang dapat digunakan untuk tahap modeling\n",
    "`RATING, VERIFIED_PURCHASE, REVIEW_TITLE, dan REVIEW TEXT`"
   ]
  },
  {
   "cell_type": "markdown",
   "id": "9438144c",
   "metadata": {},
   "source": [
    "# PEMILIHAN FITUR (KOLOM)"
   ]
  },
  {
   "cell_type": "code",
   "execution_count": 8,
   "id": "231fe284",
   "metadata": {},
   "outputs": [
    {
     "data": {
      "text/html": [
       "<div>\n",
       "<style scoped>\n",
       "    .dataframe tbody tr th:only-of-type {\n",
       "        vertical-align: middle;\n",
       "    }\n",
       "\n",
       "    .dataframe tbody tr th {\n",
       "        vertical-align: top;\n",
       "    }\n",
       "\n",
       "    .dataframe thead th {\n",
       "        text-align: right;\n",
       "    }\n",
       "</style>\n",
       "<table border=\"1\" class=\"dataframe\">\n",
       "  <thead>\n",
       "    <tr style=\"text-align: right;\">\n",
       "      <th></th>\n",
       "      <th>RATING</th>\n",
       "      <th>VERIFIED_PURCHASE</th>\n",
       "      <th>REVIEW_TITLE</th>\n",
       "      <th>REVIEW_TEXT</th>\n",
       "    </tr>\n",
       "  </thead>\n",
       "  <tbody>\n",
       "    <tr>\n",
       "      <th>0</th>\n",
       "      <td>4</td>\n",
       "      <td>1</td>\n",
       "      <td>useful</td>\n",
       "      <td>When least you think so, this product will sav...</td>\n",
       "    </tr>\n",
       "    <tr>\n",
       "      <th>1</th>\n",
       "      <td>4</td>\n",
       "      <td>1</td>\n",
       "      <td>New era for batteries</td>\n",
       "      <td>Lithium batteries are something new introduced...</td>\n",
       "    </tr>\n",
       "    <tr>\n",
       "      <th>2</th>\n",
       "      <td>3</td>\n",
       "      <td>1</td>\n",
       "      <td>doesn't swing very well.</td>\n",
       "      <td>I purchased this swing for my baby. She is 6 m...</td>\n",
       "    </tr>\n",
       "    <tr>\n",
       "      <th>3</th>\n",
       "      <td>4</td>\n",
       "      <td>1</td>\n",
       "      <td>Great computing!</td>\n",
       "      <td>I was looking for an inexpensive desk calcolat...</td>\n",
       "    </tr>\n",
       "    <tr>\n",
       "      <th>4</th>\n",
       "      <td>4</td>\n",
       "      <td>1</td>\n",
       "      <td>Only use twice a week</td>\n",
       "      <td>I only use it twice a week and the results are...</td>\n",
       "    </tr>\n",
       "  </tbody>\n",
       "</table>\n",
       "</div>"
      ],
      "text/plain": [
       "   RATING  VERIFIED_PURCHASE              REVIEW_TITLE  \\\n",
       "0       4                  1                    useful   \n",
       "1       4                  1     New era for batteries   \n",
       "2       3                  1  doesn't swing very well.   \n",
       "3       4                  1          Great computing!   \n",
       "4       4                  1     Only use twice a week   \n",
       "\n",
       "                                         REVIEW_TEXT  \n",
       "0  When least you think so, this product will sav...  \n",
       "1  Lithium batteries are something new introduced...  \n",
       "2  I purchased this swing for my baby. She is 6 m...  \n",
       "3  I was looking for an inexpensive desk calcolat...  \n",
       "4  I only use it twice a week and the results are...  "
      ]
     },
     "execution_count": 8,
     "metadata": {},
     "output_type": "execute_result"
    }
   ],
   "source": [
    "fitur = [\"RATING\", \"VERIFIED_PURCHASE\", \"REVIEW_TITLE\", \"REVIEW_TEXT\"]\n",
    "df = df[fitur]\n",
    "\n",
    "# Konversi value dari kolom VERIFIED_PURCHASE ke biner\n",
    "df[\"VERIFIED_PURCHASE\"] = df[\"VERIFIED_PURCHASE\"].map({\"Y\" : 1, \"N\" : 1})\n",
    "df.head()"
   ]
  },
  {
   "cell_type": "markdown",
   "id": "6b3b6ced",
   "metadata": {},
   "source": [
    "# TEXT-PREPROCESSING"
   ]
  },
  {
   "cell_type": "markdown",
   "id": "63f20ba4",
   "metadata": {},
   "source": [
    "#### PERSIAPAN MELAKUKAN TEXT-PREPROCESSING"
   ]
  },
  {
   "cell_type": "code",
   "execution_count": 9,
   "id": "d7d3b4f1",
   "metadata": {},
   "outputs": [],
   "source": [
    "from nltk.tokenize import word_tokenize\n",
    "from nltk.corpus import stopwords\n",
    "from string import punctuation\n",
    "from nltk.stem import WordNetLemmatizer\n",
    "from sklearn.feature_extraction.text import TfidfVectorizer\n",
    "from textblob import TextBlob\n",
    "from scipy.sparse import csr_matrix\n",
    "import re"
   ]
  },
  {
   "cell_type": "code",
   "execution_count": 10,
   "id": "0433f60e",
   "metadata": {},
   "outputs": [],
   "source": [
    "def remove_emojis(text):\n",
    "    emoji = re.compile(\"[\"\n",
    "        u\"\\U0001F600-\\U0001F64F\"  # emoticons\n",
    "        u\"\\U0001F300-\\U0001F5FF\"  # symbols & pictographs\n",
    "        u\"\\U0001F680-\\U0001F6FF\"  # transport & map symbols\n",
    "        u\"\\U0001F1E0-\\U0001F1FF\"  # flags (iOS)\n",
    "        u\"\\U00002500-\\U00002BEF\"  # chinese char\n",
    "        u\"\\U00002702-\\U000027B0\"\n",
    "        u\"\\U000024C2-\\U0001F251\"\n",
    "        u\"\\U0001f926-\\U0001f937\"\n",
    "        u\"\\U00010000-\\U0010ffff\"\n",
    "        u\"\\u2640-\\u2642\" \n",
    "        u\"\\u2600-\\u2B55\"\n",
    "        u\"\\u200d\"\n",
    "        u\"\\u23cf\"\n",
    "        u\"\\u23e9\"\n",
    "        u\"\\u231a\"\n",
    "        u\"\\ufe0f\"  # dingbats\n",
    "        u\"\\u3030\"\n",
    "                      \"]+\", re.UNICODE)\n",
    "    return re.sub(emoji, '', text)"
   ]
  },
  {
   "cell_type": "code",
   "execution_count": 11,
   "id": "a3bb3b73",
   "metadata": {},
   "outputs": [],
   "source": [
    "def preprocess_text(text):\n",
    "    # Hapus emoji\n",
    "    text = remove_emojis(text)\n",
    "    \n",
    "    # Case folding\n",
    "    text = text.lower()\n",
    "\n",
    "    # Hapus tanda baca/angka\n",
    "    text = re.sub(r'[^\\w\\s]', '', text)\n",
    "    \n",
    "    # Tokenisasi\n",
    "    tokens = word_tokenize(text)\n",
    "    \n",
    "    # Stopword removal + Penghapusan tanda baca\n",
    "    sw_english = stopwords.words(\"english\") + list(punctuation)\n",
    "    tokens = [word for word in tokens if word not in sw_english]\n",
    "    \n",
    "    # Lemmatization\n",
    "    lemmatizer = WordNetLemmatizer()\n",
    "    tokens = [lemmatizer.lemmatize(word) for word in tokens]\n",
    "    \n",
    "    return \" \".join(tokens)  # Gabungkan kembali menjadi teks"
   ]
  },
  {
   "cell_type": "markdown",
   "id": "a4628898",
   "metadata": {},
   "source": [
    "#### Penggabungan kolom REVIEW_TITLE dan REVIEW_TEXT"
   ]
  },
  {
   "cell_type": "code",
   "execution_count": 12,
   "id": "38cc233a",
   "metadata": {},
   "outputs": [
    {
     "data": {
      "text/html": [
       "<div>\n",
       "<style scoped>\n",
       "    .dataframe tbody tr th:only-of-type {\n",
       "        vertical-align: middle;\n",
       "    }\n",
       "\n",
       "    .dataframe tbody tr th {\n",
       "        vertical-align: top;\n",
       "    }\n",
       "\n",
       "    .dataframe thead th {\n",
       "        text-align: right;\n",
       "    }\n",
       "</style>\n",
       "<table border=\"1\" class=\"dataframe\">\n",
       "  <thead>\n",
       "    <tr style=\"text-align: right;\">\n",
       "      <th></th>\n",
       "      <th>RATING</th>\n",
       "      <th>VERIFIED_PURCHASE</th>\n",
       "      <th>REVIEW_TITLE</th>\n",
       "      <th>REVIEW_TEXT</th>\n",
       "      <th>COMBINED_TEXT</th>\n",
       "    </tr>\n",
       "  </thead>\n",
       "  <tbody>\n",
       "    <tr>\n",
       "      <th>0</th>\n",
       "      <td>4</td>\n",
       "      <td>1</td>\n",
       "      <td>useful</td>\n",
       "      <td>When least you think so, this product will sav...</td>\n",
       "      <td>useful When least you think so, this product w...</td>\n",
       "    </tr>\n",
       "    <tr>\n",
       "      <th>1</th>\n",
       "      <td>4</td>\n",
       "      <td>1</td>\n",
       "      <td>New era for batteries</td>\n",
       "      <td>Lithium batteries are something new introduced...</td>\n",
       "      <td>New era for batteries Lithium batteries are so...</td>\n",
       "    </tr>\n",
       "    <tr>\n",
       "      <th>2</th>\n",
       "      <td>3</td>\n",
       "      <td>1</td>\n",
       "      <td>doesn't swing very well.</td>\n",
       "      <td>I purchased this swing for my baby. She is 6 m...</td>\n",
       "      <td>doesn't swing very well. I purchased this swin...</td>\n",
       "    </tr>\n",
       "    <tr>\n",
       "      <th>3</th>\n",
       "      <td>4</td>\n",
       "      <td>1</td>\n",
       "      <td>Great computing!</td>\n",
       "      <td>I was looking for an inexpensive desk calcolat...</td>\n",
       "      <td>Great computing! I was looking for an inexpens...</td>\n",
       "    </tr>\n",
       "    <tr>\n",
       "      <th>4</th>\n",
       "      <td>4</td>\n",
       "      <td>1</td>\n",
       "      <td>Only use twice a week</td>\n",
       "      <td>I only use it twice a week and the results are...</td>\n",
       "      <td>Only use twice a week I only use it twice a we...</td>\n",
       "    </tr>\n",
       "  </tbody>\n",
       "</table>\n",
       "</div>"
      ],
      "text/plain": [
       "   RATING  VERIFIED_PURCHASE              REVIEW_TITLE  \\\n",
       "0       4                  1                    useful   \n",
       "1       4                  1     New era for batteries   \n",
       "2       3                  1  doesn't swing very well.   \n",
       "3       4                  1          Great computing!   \n",
       "4       4                  1     Only use twice a week   \n",
       "\n",
       "                                         REVIEW_TEXT  \\\n",
       "0  When least you think so, this product will sav...   \n",
       "1  Lithium batteries are something new introduced...   \n",
       "2  I purchased this swing for my baby. She is 6 m...   \n",
       "3  I was looking for an inexpensive desk calcolat...   \n",
       "4  I only use it twice a week and the results are...   \n",
       "\n",
       "                                       COMBINED_TEXT  \n",
       "0  useful When least you think so, this product w...  \n",
       "1  New era for batteries Lithium batteries are so...  \n",
       "2  doesn't swing very well. I purchased this swin...  \n",
       "3  Great computing! I was looking for an inexpens...  \n",
       "4  Only use twice a week I only use it twice a we...  "
      ]
     },
     "execution_count": 12,
     "metadata": {},
     "output_type": "execute_result"
    }
   ],
   "source": [
    "df[\"COMBINED_TEXT\"] = df[\"REVIEW_TITLE\"] + \" \" + df[\"REVIEW_TEXT\"]\n",
    "df.head()"
   ]
  },
  {
   "cell_type": "markdown",
   "id": "b80b8e93",
   "metadata": {},
   "source": [
    "#### PENERAPAN TEXT PREPROCESSING"
   ]
  },
  {
   "cell_type": "code",
   "execution_count": 13,
   "id": "16636a14",
   "metadata": {},
   "outputs": [
    {
     "data": {
      "text/html": [
       "<div>\n",
       "<style scoped>\n",
       "    .dataframe tbody tr th:only-of-type {\n",
       "        vertical-align: middle;\n",
       "    }\n",
       "\n",
       "    .dataframe tbody tr th {\n",
       "        vertical-align: top;\n",
       "    }\n",
       "\n",
       "    .dataframe thead th {\n",
       "        text-align: right;\n",
       "    }\n",
       "</style>\n",
       "<table border=\"1\" class=\"dataframe\">\n",
       "  <thead>\n",
       "    <tr style=\"text-align: right;\">\n",
       "      <th></th>\n",
       "      <th>RATING</th>\n",
       "      <th>VERIFIED_PURCHASE</th>\n",
       "      <th>REVIEW_TITLE</th>\n",
       "      <th>REVIEW_TEXT</th>\n",
       "      <th>COMBINED_TEXT</th>\n",
       "      <th>TOKENS</th>\n",
       "    </tr>\n",
       "  </thead>\n",
       "  <tbody>\n",
       "    <tr>\n",
       "      <th>0</th>\n",
       "      <td>4</td>\n",
       "      <td>1</td>\n",
       "      <td>useful</td>\n",
       "      <td>When least you think so, this product will sav...</td>\n",
       "      <td>useful When least you think so, this product w...</td>\n",
       "      <td>useful least think product save day keep aroun...</td>\n",
       "    </tr>\n",
       "    <tr>\n",
       "      <th>1</th>\n",
       "      <td>4</td>\n",
       "      <td>1</td>\n",
       "      <td>New era for batteries</td>\n",
       "      <td>Lithium batteries are something new introduced...</td>\n",
       "      <td>New era for batteries Lithium batteries are so...</td>\n",
       "      <td>new era battery lithium battery something new ...</td>\n",
       "    </tr>\n",
       "    <tr>\n",
       "      <th>2</th>\n",
       "      <td>3</td>\n",
       "      <td>1</td>\n",
       "      <td>doesn't swing very well.</td>\n",
       "      <td>I purchased this swing for my baby. She is 6 m...</td>\n",
       "      <td>doesn't swing very well. I purchased this swin...</td>\n",
       "      <td>doesnt swing well purchased swing baby 6 month...</td>\n",
       "    </tr>\n",
       "    <tr>\n",
       "      <th>3</th>\n",
       "      <td>4</td>\n",
       "      <td>1</td>\n",
       "      <td>Great computing!</td>\n",
       "      <td>I was looking for an inexpensive desk calcolat...</td>\n",
       "      <td>Great computing! I was looking for an inexpens...</td>\n",
       "      <td>great computing looking inexpensive desk calco...</td>\n",
       "    </tr>\n",
       "    <tr>\n",
       "      <th>4</th>\n",
       "      <td>4</td>\n",
       "      <td>1</td>\n",
       "      <td>Only use twice a week</td>\n",
       "      <td>I only use it twice a week and the results are...</td>\n",
       "      <td>Only use twice a week I only use it twice a we...</td>\n",
       "      <td>use twice week use twice week result great use...</td>\n",
       "    </tr>\n",
       "  </tbody>\n",
       "</table>\n",
       "</div>"
      ],
      "text/plain": [
       "   RATING  VERIFIED_PURCHASE              REVIEW_TITLE  \\\n",
       "0       4                  1                    useful   \n",
       "1       4                  1     New era for batteries   \n",
       "2       3                  1  doesn't swing very well.   \n",
       "3       4                  1          Great computing!   \n",
       "4       4                  1     Only use twice a week   \n",
       "\n",
       "                                         REVIEW_TEXT  \\\n",
       "0  When least you think so, this product will sav...   \n",
       "1  Lithium batteries are something new introduced...   \n",
       "2  I purchased this swing for my baby. She is 6 m...   \n",
       "3  I was looking for an inexpensive desk calcolat...   \n",
       "4  I only use it twice a week and the results are...   \n",
       "\n",
       "                                       COMBINED_TEXT  \\\n",
       "0  useful When least you think so, this product w...   \n",
       "1  New era for batteries Lithium batteries are so...   \n",
       "2  doesn't swing very well. I purchased this swin...   \n",
       "3  Great computing! I was looking for an inexpens...   \n",
       "4  Only use twice a week I only use it twice a we...   \n",
       "\n",
       "                                              TOKENS  \n",
       "0  useful least think product save day keep aroun...  \n",
       "1  new era battery lithium battery something new ...  \n",
       "2  doesnt swing well purchased swing baby 6 month...  \n",
       "3  great computing looking inexpensive desk calco...  \n",
       "4  use twice week use twice week result great use...  "
      ]
     },
     "execution_count": 13,
     "metadata": {},
     "output_type": "execute_result"
    }
   ],
   "source": [
    "df[\"TOKENS\"] = df[\"COMBINED_TEXT\"].apply(preprocess_text)\n",
    "df.head()"
   ]
  },
  {
   "cell_type": "markdown",
   "id": "c4917746",
   "metadata": {},
   "source": [
    "#### Memastikan bahwa tidak ada kolom yang kosong dikarenakan preprocessing text"
   ]
  },
  {
   "cell_type": "code",
   "execution_count": 14,
   "id": "a85c321b",
   "metadata": {},
   "outputs": [
    {
     "data": {
      "image/png": "[encoded data removed]",
      "text/plain": [
       "<Figure size 1500x800 with 1 Axes>"
      ]
     },
     "metadata": {},
     "output_type": "display_data"
    }
   ],
   "source": [
    "plot_missing_value(df=df)"
   ]
  },
  {
   "cell_type": "code",
   "execution_count": 15,
   "id": "cd4fd3da",
   "metadata": {},
   "outputs": [
    {
     "data": {
      "text/plain": [
       "'useful When least you think so, this product will save the day. Just keep it around just in case you need it for something.'"
      ]
     },
     "execution_count": 15,
     "metadata": {},
     "output_type": "execute_result"
    }
   ],
   "source": [
    "df.iloc[0][\"COMBINED_TEXT\"]"
   ]
  },
  {
   "cell_type": "code",
   "execution_count": 16,
   "id": "4def5ef9",
   "metadata": {},
   "outputs": [
    {
     "data": {
      "text/plain": [
       "'useful least think product save day keep around case need something'"
      ]
     },
     "execution_count": 16,
     "metadata": {},
     "output_type": "execute_result"
    }
   ],
   "source": [
    "df.iloc[0][\"TOKENS\"]"
   ]
  },
  {
   "cell_type": "markdown",
   "id": "71ac8702",
   "metadata": {},
   "source": [
    "#### ANALISIS SENTIMENT MENGGUNAKAN TEXTBLOB"
   ]
  },
  {
   "cell_type": "code",
   "execution_count": 17,
   "id": "217c5a47",
   "metadata": {},
   "outputs": [
    {
     "data": {
      "text/html": [
       "<div>\n",
       "<style scoped>\n",
       "    .dataframe tbody tr th:only-of-type {\n",
       "        vertical-align: middle;\n",
       "    }\n",
       "\n",
       "    .dataframe tbody tr th {\n",
       "        vertical-align: top;\n",
       "    }\n",
       "\n",
       "    .dataframe thead th {\n",
       "        text-align: right;\n",
       "    }\n",
       "</style>\n",
       "<table border=\"1\" class=\"dataframe\">\n",
       "  <thead>\n",
       "    <tr style=\"text-align: right;\">\n",
       "      <th></th>\n",
       "      <th>RATING</th>\n",
       "      <th>VERIFIED_PURCHASE</th>\n",
       "      <th>REVIEW_TITLE</th>\n",
       "      <th>REVIEW_TEXT</th>\n",
       "      <th>COMBINED_TEXT</th>\n",
       "      <th>TOKENS</th>\n",
       "    </tr>\n",
       "  </thead>\n",
       "  <tbody>\n",
       "    <tr>\n",
       "      <th>0</th>\n",
       "      <td>4</td>\n",
       "      <td>1</td>\n",
       "      <td>useful</td>\n",
       "      <td>When least you think so, this product will sav...</td>\n",
       "      <td>useful When least you think so, this product w...</td>\n",
       "      <td>useful least think product save day keep aroun...</td>\n",
       "    </tr>\n",
       "    <tr>\n",
       "      <th>1</th>\n",
       "      <td>4</td>\n",
       "      <td>1</td>\n",
       "      <td>New era for batteries</td>\n",
       "      <td>Lithium batteries are something new introduced...</td>\n",
       "      <td>New era for batteries Lithium batteries are so...</td>\n",
       "      <td>new era battery lithium battery something new ...</td>\n",
       "    </tr>\n",
       "    <tr>\n",
       "      <th>2</th>\n",
       "      <td>3</td>\n",
       "      <td>1</td>\n",
       "      <td>doesn't swing very well.</td>\n",
       "      <td>I purchased this swing for my baby. She is 6 m...</td>\n",
       "      <td>doesn't swing very well. I purchased this swin...</td>\n",
       "      <td>doesnt swing well purchased swing baby 6 month...</td>\n",
       "    </tr>\n",
       "    <tr>\n",
       "      <th>3</th>\n",
       "      <td>4</td>\n",
       "      <td>1</td>\n",
       "      <td>Great computing!</td>\n",
       "      <td>I was looking for an inexpensive desk calcolat...</td>\n",
       "      <td>Great computing! I was looking for an inexpens...</td>\n",
       "      <td>great computing looking inexpensive desk calco...</td>\n",
       "    </tr>\n",
       "    <tr>\n",
       "      <th>4</th>\n",
       "      <td>4</td>\n",
       "      <td>1</td>\n",
       "      <td>Only use twice a week</td>\n",
       "      <td>I only use it twice a week and the results are...</td>\n",
       "      <td>Only use twice a week I only use it twice a we...</td>\n",
       "      <td>use twice week use twice week result great use...</td>\n",
       "    </tr>\n",
       "  </tbody>\n",
       "</table>\n",
       "</div>"
      ],
      "text/plain": [
       "   RATING  VERIFIED_PURCHASE              REVIEW_TITLE  \\\n",
       "0       4                  1                    useful   \n",
       "1       4                  1     New era for batteries   \n",
       "2       3                  1  doesn't swing very well.   \n",
       "3       4                  1          Great computing!   \n",
       "4       4                  1     Only use twice a week   \n",
       "\n",
       "                                         REVIEW_TEXT  \\\n",
       "0  When least you think so, this product will sav...   \n",
       "1  Lithium batteries are something new introduced...   \n",
       "2  I purchased this swing for my baby. She is 6 m...   \n",
       "3  I was looking for an inexpensive desk calcolat...   \n",
       "4  I only use it twice a week and the results are...   \n",
       "\n",
       "                                       COMBINED_TEXT  \\\n",
       "0  useful When least you think so, this product w...   \n",
       "1  New era for batteries Lithium batteries are so...   \n",
       "2  doesn't swing very well. I purchased this swin...   \n",
       "3  Great computing! I was looking for an inexpens...   \n",
       "4  Only use twice a week I only use it twice a we...   \n",
       "\n",
       "                                              TOKENS  \n",
       "0  useful least think product save day keep aroun...  \n",
       "1  new era battery lithium battery something new ...  \n",
       "2  doesnt swing well purchased swing baby 6 month...  \n",
       "3  great computing looking inexpensive desk calco...  \n",
       "4  use twice week use twice week result great use...  "
      ]
     },
     "execution_count": 17,
     "metadata": {},
     "output_type": "execute_result"
    }
   ],
   "source": [
    "df.head()"
   ]
  },
  {
   "cell_type": "code",
   "execution_count": 18,
   "id": "10f68bb6",
   "metadata": {},
   "outputs": [],
   "source": [
    "def analyze_sentiment(text):\n",
    "    analysis = TextBlob(text)\n",
    "    polarity = analysis.sentiment.polarity\n",
    "    if polarity > 0:\n",
    "        return \"positif\"\n",
    "    elif polarity < 0:\n",
    "        return \"negatif\"\n",
    "    else:\n",
    "        return \"netral\""
   ]
  },
  {
   "cell_type": "code",
   "execution_count": 19,
   "id": "3791c27d",
   "metadata": {},
   "outputs": [
    {
     "data": {
      "text/html": [
       "<div>\n",
       "<style scoped>\n",
       "    .dataframe tbody tr th:only-of-type {\n",
       "        vertical-align: middle;\n",
       "    }\n",
       "\n",
       "    .dataframe tbody tr th {\n",
       "        vertical-align: top;\n",
       "    }\n",
       "\n",
       "    .dataframe thead th {\n",
       "        text-align: right;\n",
       "    }\n",
       "</style>\n",
       "<table border=\"1\" class=\"dataframe\">\n",
       "  <thead>\n",
       "    <tr style=\"text-align: right;\">\n",
       "      <th></th>\n",
       "      <th>RATING</th>\n",
       "      <th>VERIFIED_PURCHASE</th>\n",
       "      <th>REVIEW_TITLE</th>\n",
       "      <th>REVIEW_TEXT</th>\n",
       "      <th>COMBINED_TEXT</th>\n",
       "      <th>TOKENS</th>\n",
       "      <th>LABEL</th>\n",
       "    </tr>\n",
       "  </thead>\n",
       "  <tbody>\n",
       "    <tr>\n",
       "      <th>0</th>\n",
       "      <td>4</td>\n",
       "      <td>1</td>\n",
       "      <td>useful</td>\n",
       "      <td>When least you think so, this product will sav...</td>\n",
       "      <td>useful When least you think so, this product w...</td>\n",
       "      <td>useful least think product save day keep aroun...</td>\n",
       "      <td>netral</td>\n",
       "    </tr>\n",
       "    <tr>\n",
       "      <th>1</th>\n",
       "      <td>4</td>\n",
       "      <td>1</td>\n",
       "      <td>New era for batteries</td>\n",
       "      <td>Lithium batteries are something new introduced...</td>\n",
       "      <td>New era for batteries Lithium batteries are so...</td>\n",
       "      <td>new era battery lithium battery something new ...</td>\n",
       "      <td>positif</td>\n",
       "    </tr>\n",
       "    <tr>\n",
       "      <th>2</th>\n",
       "      <td>3</td>\n",
       "      <td>1</td>\n",
       "      <td>doesn't swing very well.</td>\n",
       "      <td>I purchased this swing for my baby. She is 6 m...</td>\n",
       "      <td>doesn't swing very well. I purchased this swin...</td>\n",
       "      <td>doesnt swing well purchased swing baby 6 month...</td>\n",
       "      <td>positif</td>\n",
       "    </tr>\n",
       "    <tr>\n",
       "      <th>3</th>\n",
       "      <td>4</td>\n",
       "      <td>1</td>\n",
       "      <td>Great computing!</td>\n",
       "      <td>I was looking for an inexpensive desk calcolat...</td>\n",
       "      <td>Great computing! I was looking for an inexpens...</td>\n",
       "      <td>great computing looking inexpensive desk calco...</td>\n",
       "      <td>positif</td>\n",
       "    </tr>\n",
       "    <tr>\n",
       "      <th>4</th>\n",
       "      <td>4</td>\n",
       "      <td>1</td>\n",
       "      <td>Only use twice a week</td>\n",
       "      <td>I only use it twice a week and the results are...</td>\n",
       "      <td>Only use twice a week I only use it twice a we...</td>\n",
       "      <td>use twice week use twice week result great use...</td>\n",
       "      <td>positif</td>\n",
       "    </tr>\n",
       "  </tbody>\n",
       "</table>\n",
       "</div>"
      ],
      "text/plain": [
       "   RATING  VERIFIED_PURCHASE              REVIEW_TITLE  \\\n",
       "0       4                  1                    useful   \n",
       "1       4                  1     New era for batteries   \n",
       "2       3                  1  doesn't swing very well.   \n",
       "3       4                  1          Great computing!   \n",
       "4       4                  1     Only use twice a week   \n",
       "\n",
       "                                         REVIEW_TEXT  \\\n",
       "0  When least you think so, this product will sav...   \n",
       "1  Lithium batteries are something new introduced...   \n",
       "2  I purchased this swing for my baby. She is 6 m...   \n",
       "3  I was looking for an inexpensive desk calcolat...   \n",
       "4  I only use it twice a week and the results are...   \n",
       "\n",
       "                                       COMBINED_TEXT  \\\n",
       "0  useful When least you think so, this product w...   \n",
       "1  New era for batteries Lithium batteries are so...   \n",
       "2  doesn't swing very well. I purchased this swin...   \n",
       "3  Great computing! I was looking for an inexpens...   \n",
       "4  Only use twice a week I only use it twice a we...   \n",
       "\n",
       "                                              TOKENS    LABEL  \n",
       "0  useful least think product save day keep aroun...   netral  \n",
       "1  new era battery lithium battery something new ...  positif  \n",
       "2  doesnt swing well purchased swing baby 6 month...  positif  \n",
       "3  great computing looking inexpensive desk calco...  positif  \n",
       "4  use twice week use twice week result great use...  positif  "
      ]
     },
     "execution_count": 19,
     "metadata": {},
     "output_type": "execute_result"
    }
   ],
   "source": [
    "df[\"LABEL\"] = df[\"TOKENS\"].apply(analyze_sentiment)\n",
    "df.head()"
   ]
  },
  {
   "cell_type": "code",
   "execution_count": 20,
   "id": "29c56afa",
   "metadata": {},
   "outputs": [
    {
     "data": {
      "text/plain": [
       "LABEL\n",
       "positif    18648\n",
       "negatif     2055\n",
       "netral       297\n",
       "Name: count, dtype: int64"
      ]
     },
     "execution_count": 20,
     "metadata": {},
     "output_type": "execute_result"
    }
   ],
   "source": [
    "df[\"LABEL\"].value_counts()"
   ]
  },
  {
   "cell_type": "markdown",
   "id": "78ddf2c4",
   "metadata": {},
   "source": [
    "#### MEMBUANG KOLOM YANG TIDAK DI GUNAKAN"
   ]
  },
  {
   "cell_type": "code",
   "execution_count": 21,
   "id": "9b35be51",
   "metadata": {},
   "outputs": [
    {
     "data": {
      "text/html": [
       "<div>\n",
       "<style scoped>\n",
       "    .dataframe tbody tr th:only-of-type {\n",
       "        vertical-align: middle;\n",
       "    }\n",
       "\n",
       "    .dataframe tbody tr th {\n",
       "        vertical-align: top;\n",
       "    }\n",
       "\n",
       "    .dataframe thead th {\n",
       "        text-align: right;\n",
       "    }\n",
       "</style>\n",
       "<table border=\"1\" class=\"dataframe\">\n",
       "  <thead>\n",
       "    <tr style=\"text-align: right;\">\n",
       "      <th></th>\n",
       "      <th>RATING</th>\n",
       "      <th>VERIFIED_PURCHASE</th>\n",
       "      <th>TOKENS</th>\n",
       "      <th>LABEL</th>\n",
       "    </tr>\n",
       "  </thead>\n",
       "  <tbody>\n",
       "    <tr>\n",
       "      <th>0</th>\n",
       "      <td>4</td>\n",
       "      <td>1</td>\n",
       "      <td>useful least think product save day keep aroun...</td>\n",
       "      <td>netral</td>\n",
       "    </tr>\n",
       "    <tr>\n",
       "      <th>1</th>\n",
       "      <td>4</td>\n",
       "      <td>1</td>\n",
       "      <td>new era battery lithium battery something new ...</td>\n",
       "      <td>positif</td>\n",
       "    </tr>\n",
       "    <tr>\n",
       "      <th>2</th>\n",
       "      <td>3</td>\n",
       "      <td>1</td>\n",
       "      <td>doesnt swing well purchased swing baby 6 month...</td>\n",
       "      <td>positif</td>\n",
       "    </tr>\n",
       "    <tr>\n",
       "      <th>3</th>\n",
       "      <td>4</td>\n",
       "      <td>1</td>\n",
       "      <td>great computing looking inexpensive desk calco...</td>\n",
       "      <td>positif</td>\n",
       "    </tr>\n",
       "    <tr>\n",
       "      <th>4</th>\n",
       "      <td>4</td>\n",
       "      <td>1</td>\n",
       "      <td>use twice week use twice week result great use...</td>\n",
       "      <td>positif</td>\n",
       "    </tr>\n",
       "  </tbody>\n",
       "</table>\n",
       "</div>"
      ],
      "text/plain": [
       "   RATING  VERIFIED_PURCHASE  \\\n",
       "0       4                  1   \n",
       "1       4                  1   \n",
       "2       3                  1   \n",
       "3       4                  1   \n",
       "4       4                  1   \n",
       "\n",
       "                                              TOKENS    LABEL  \n",
       "0  useful least think product save day keep aroun...   netral  \n",
       "1  new era battery lithium battery something new ...  positif  \n",
       "2  doesnt swing well purchased swing baby 6 month...  positif  \n",
       "3  great computing looking inexpensive desk calco...  positif  \n",
       "4  use twice week use twice week result great use...  positif  "
      ]
     },
     "execution_count": 21,
     "metadata": {},
     "output_type": "execute_result"
    }
   ],
   "source": [
    "df.drop(columns=[\"REVIEW_TITLE\", \"REVIEW_TEXT\", \"COMBINED_TEXT\"], inplace=True)\n",
    "df.head()"
   ]
  },
  {
   "cell_type": "markdown",
   "id": "ef1a202b",
   "metadata": {},
   "source": [
    "#### FEATURE EXTRACTION"
   ]
  },
  {
   "cell_type": "code",
   "execution_count": 22,
   "id": "dde80b0d",
   "metadata": {},
   "outputs": [],
   "source": [
    "tfidf = TfidfVectorizer(\n",
    "    tokenizer=None,\n",
    "    lowercase=False,\n",
    "    preprocessor=None,\n",
    "    stop_words=None,\n",
    "    use_idf=True,\n",
    "    max_features=1400\n",
    ")\n",
    "\n",
    "X_tfidf = tfidf.fit_transform(df[\"TOKENS\"])"
   ]
  },
  {
   "cell_type": "code",
   "execution_count": 23,
   "id": "985add5e",
   "metadata": {},
   "outputs": [
    {
     "name": "stdout",
     "output_type": "stream",
     "text": [
      "(21000, 1400)\n"
     ]
    }
   ],
   "source": [
    "print(X_tfidf.shape)"
   ]
  },
  {
   "cell_type": "code",
   "execution_count": 25,
   "id": "1591676a",
   "metadata": {},
   "outputs": [
    {
     "data": {
      "text/html": [
       "<div>\n",
       "<style scoped>\n",
       "    .dataframe tbody tr th:only-of-type {\n",
       "        vertical-align: middle;\n",
       "    }\n",
       "\n",
       "    .dataframe tbody tr th {\n",
       "        vertical-align: top;\n",
       "    }\n",
       "\n",
       "    .dataframe thead th {\n",
       "        text-align: right;\n",
       "    }\n",
       "</style>\n",
       "<table border=\"1\" class=\"dataframe\">\n",
       "  <thead>\n",
       "    <tr style=\"text-align: right;\">\n",
       "      <th></th>\n",
       "      <th>RATING</th>\n",
       "      <th>VERIFIED_PURCHASE</th>\n",
       "      <th>10</th>\n",
       "      <th>100</th>\n",
       "      <th>12</th>\n",
       "      <th>13</th>\n",
       "      <th>14</th>\n",
       "      <th>15</th>\n",
       "      <th>20</th>\n",
       "      <th>25</th>\n",
       "      <th>...</th>\n",
       "      <th>year</th>\n",
       "      <th>yellow</th>\n",
       "      <th>yes</th>\n",
       "      <th>yet</th>\n",
       "      <th>youll</th>\n",
       "      <th>young</th>\n",
       "      <th>youre</th>\n",
       "      <th>zipper</th>\n",
       "      <th>zoom</th>\n",
       "      <th>LABEL</th>\n",
       "    </tr>\n",
       "  </thead>\n",
       "  <tbody>\n",
       "    <tr>\n",
       "      <th>0</th>\n",
       "      <td>4</td>\n",
       "      <td>1</td>\n",
       "      <td>0.0</td>\n",
       "      <td>0.0</td>\n",
       "      <td>0.0</td>\n",
       "      <td>0.0</td>\n",
       "      <td>0.0</td>\n",
       "      <td>0.0</td>\n",
       "      <td>0.0</td>\n",
       "      <td>0.0</td>\n",
       "      <td>...</td>\n",
       "      <td>0.0</td>\n",
       "      <td>0.0</td>\n",
       "      <td>0.0</td>\n",
       "      <td>0.0</td>\n",
       "      <td>0.0</td>\n",
       "      <td>0.0</td>\n",
       "      <td>0.0</td>\n",
       "      <td>0.0</td>\n",
       "      <td>0.0</td>\n",
       "      <td>netral</td>\n",
       "    </tr>\n",
       "    <tr>\n",
       "      <th>1</th>\n",
       "      <td>4</td>\n",
       "      <td>1</td>\n",
       "      <td>0.0</td>\n",
       "      <td>0.0</td>\n",
       "      <td>0.0</td>\n",
       "      <td>0.0</td>\n",
       "      <td>0.0</td>\n",
       "      <td>0.0</td>\n",
       "      <td>0.0</td>\n",
       "      <td>0.0</td>\n",
       "      <td>...</td>\n",
       "      <td>0.0</td>\n",
       "      <td>0.0</td>\n",
       "      <td>0.0</td>\n",
       "      <td>0.0</td>\n",
       "      <td>0.0</td>\n",
       "      <td>0.0</td>\n",
       "      <td>0.0</td>\n",
       "      <td>0.0</td>\n",
       "      <td>0.0</td>\n",
       "      <td>positif</td>\n",
       "    </tr>\n",
       "    <tr>\n",
       "      <th>2</th>\n",
       "      <td>3</td>\n",
       "      <td>1</td>\n",
       "      <td>0.0</td>\n",
       "      <td>0.0</td>\n",
       "      <td>0.0</td>\n",
       "      <td>0.0</td>\n",
       "      <td>0.0</td>\n",
       "      <td>0.0</td>\n",
       "      <td>0.0</td>\n",
       "      <td>0.0</td>\n",
       "      <td>...</td>\n",
       "      <td>0.0</td>\n",
       "      <td>0.0</td>\n",
       "      <td>0.0</td>\n",
       "      <td>0.0</td>\n",
       "      <td>0.0</td>\n",
       "      <td>0.0</td>\n",
       "      <td>0.0</td>\n",
       "      <td>0.0</td>\n",
       "      <td>0.0</td>\n",
       "      <td>positif</td>\n",
       "    </tr>\n",
       "    <tr>\n",
       "      <th>3</th>\n",
       "      <td>4</td>\n",
       "      <td>1</td>\n",
       "      <td>0.0</td>\n",
       "      <td>0.0</td>\n",
       "      <td>0.0</td>\n",
       "      <td>0.0</td>\n",
       "      <td>0.0</td>\n",
       "      <td>0.0</td>\n",
       "      <td>0.0</td>\n",
       "      <td>0.0</td>\n",
       "      <td>...</td>\n",
       "      <td>0.0</td>\n",
       "      <td>0.0</td>\n",
       "      <td>0.0</td>\n",
       "      <td>0.0</td>\n",
       "      <td>0.0</td>\n",
       "      <td>0.0</td>\n",
       "      <td>0.0</td>\n",
       "      <td>0.0</td>\n",
       "      <td>0.0</td>\n",
       "      <td>positif</td>\n",
       "    </tr>\n",
       "    <tr>\n",
       "      <th>4</th>\n",
       "      <td>4</td>\n",
       "      <td>1</td>\n",
       "      <td>0.0</td>\n",
       "      <td>0.0</td>\n",
       "      <td>0.0</td>\n",
       "      <td>0.0</td>\n",
       "      <td>0.0</td>\n",
       "      <td>0.0</td>\n",
       "      <td>0.0</td>\n",
       "      <td>0.0</td>\n",
       "      <td>...</td>\n",
       "      <td>0.0</td>\n",
       "      <td>0.0</td>\n",
       "      <td>0.0</td>\n",
       "      <td>0.0</td>\n",
       "      <td>0.0</td>\n",
       "      <td>0.0</td>\n",
       "      <td>0.0</td>\n",
       "      <td>0.0</td>\n",
       "      <td>0.0</td>\n",
       "      <td>positif</td>\n",
       "    </tr>\n",
       "  </tbody>\n",
       "</table>\n",
       "<p>5 rows × 1403 columns</p>\n",
       "</div>"
      ],
      "text/plain": [
       "   RATING  VERIFIED_PURCHASE   10  100   12   13   14   15   20   25  ...  \\\n",
       "0       4                  1  0.0  0.0  0.0  0.0  0.0  0.0  0.0  0.0  ...   \n",
       "1       4                  1  0.0  0.0  0.0  0.0  0.0  0.0  0.0  0.0  ...   \n",
       "2       3                  1  0.0  0.0  0.0  0.0  0.0  0.0  0.0  0.0  ...   \n",
       "3       4                  1  0.0  0.0  0.0  0.0  0.0  0.0  0.0  0.0  ...   \n",
       "4       4                  1  0.0  0.0  0.0  0.0  0.0  0.0  0.0  0.0  ...   \n",
       "\n",
       "   year  yellow  yes  yet  youll  young  youre  zipper  zoom    LABEL  \n",
       "0   0.0     0.0  0.0  0.0    0.0    0.0    0.0     0.0   0.0   netral  \n",
       "1   0.0     0.0  0.0  0.0    0.0    0.0    0.0     0.0   0.0  positif  \n",
       "2   0.0     0.0  0.0  0.0    0.0    0.0    0.0     0.0   0.0  positif  \n",
       "3   0.0     0.0  0.0  0.0    0.0    0.0    0.0     0.0   0.0  positif  \n",
       "4   0.0     0.0  0.0  0.0    0.0    0.0    0.0     0.0   0.0  positif  \n",
       "\n",
       "[5 rows x 1403 columns]"
      ]
     },
     "execution_count": 25,
     "metadata": {},
     "output_type": "execute_result"
    }
   ],
   "source": [
    "tfidf_df = pd.DataFrame.sparse.from_spmatrix(\n",
    "    X_tfidf,\n",
    "    columns=tfidf.get_feature_names_out()  \n",
    ")\n",
    "\n",
    "final_df = pd.concat([\n",
    "    df[['RATING', 'VERIFIED_PURCHASE']],  \n",
    "    tfidf_df,                             \n",
    "    df['LABEL']\n",
    "], axis=1)\n",
    "\n",
    "final_df.head()"
   ]
  },
  {
   "cell_type": "code",
   "execution_count": 26,
   "id": "2e65759f",
   "metadata": {},
   "outputs": [],
   "source": [
    "final_df.to_csv(path_or_buf=\"data/sentiment_amazon.csv\", index=False)"
   ]
  }
 ],
 "metadata": {
  "kernelspec": {
   "display_name": "Belajar_ML_JCOP",
   "language": "python",
   "name": "python3"
  },
  "language_info": {
   "codemirror_mode": {
    "name": "ipython",
    "version": 3
   },
   "file_extension": ".py",
   "mimetype": "text/x-python",
   "name": "python",
   "nbconvert_exporter": "python",
   "pygments_lexer": "ipython3",
   "version": "3.11.0"
  }
 },
 "nbformat": 4,
 "nbformat_minor": 5
}
